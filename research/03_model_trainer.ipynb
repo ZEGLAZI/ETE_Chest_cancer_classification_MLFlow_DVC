{
 "cells": [
  {
   "cell_type": "code",
   "execution_count": 1,
   "metadata": {},
   "outputs": [],
   "source": [
    "import os"
   ]
  },
  {
   "cell_type": "code",
   "execution_count": 2,
   "metadata": {},
   "outputs": [
    {
     "data": {
      "text/plain": [
       "'/Users/zeglazi/Documents/ETE_Chest_Cancer_ML_Project_MLFLOW_DVC/research'"
      ]
     },
     "execution_count": 2,
     "metadata": {},
     "output_type": "execute_result"
    }
   ],
   "source": [
    "%pwd"
   ]
  },
  {
   "cell_type": "code",
   "execution_count": 3,
   "metadata": {},
   "outputs": [],
   "source": [
    "os.chdir(\"../\")"
   ]
  },
  {
   "cell_type": "code",
   "execution_count": 4,
   "metadata": {},
   "outputs": [
    {
     "data": {
      "text/plain": [
       "'/Users/zeglazi/Documents/ETE_Chest_Cancer_ML_Project_MLFLOW_DVC'"
      ]
     },
     "execution_count": 4,
     "metadata": {},
     "output_type": "execute_result"
    }
   ],
   "source": [
    "%pwd"
   ]
  },
  {
   "cell_type": "code",
   "execution_count": 5,
   "metadata": {},
   "outputs": [],
   "source": [
    "from dataclasses import dataclass\n",
    "from pathlib import Path\n",
    "\n",
    "@dataclass(frozen=True)\n",
    "class TrainingConfig:\n",
    "    root_dir : Path\n",
    "    trained_model_path: Path\n",
    "    updated_base_model_path: Path\n",
    "    training_data: Path\n",
    "    params_epochs: int\n",
    "    params_batch_size: int\n",
    "    params_is_augmentration: bool\n",
    "    params_image_size: list "
   ]
  },
  {
   "cell_type": "code",
   "execution_count": 6,
   "metadata": {},
   "outputs": [
    {
     "name": "stderr",
     "output_type": "stream",
     "text": [
      "2025-06-06 00:52:07.677068: I tensorflow/core/platform/cpu_feature_guard.cc:182] This TensorFlow binary is optimized to use available CPU instructions in performance-critical operations.\n",
      "To enable the following instructions: AVX2 FMA, in other operations, rebuild TensorFlow with the appropriate compiler flags.\n"
     ]
    }
   ],
   "source": [
    "from cnnClassifier.constants import *\n",
    "from cnnClassifier.utils.common import read_yaml, create_directories\n",
    "import tensorflow as tf"
   ]
  },
  {
   "cell_type": "code",
   "execution_count": 12,
   "metadata": {},
   "outputs": [],
   "source": [
    "class ConfigurationManager:\n",
    "    def __init__(\n",
    "        self,\n",
    "        config_filepath = CONFIG_FILE_PATH,\n",
    "        params_filepath = PARAMS_FILE_PATH):\n",
    "        \n",
    "        self.config = read_yaml(config_filepath)\n",
    "        self.params = read_yaml(PARAMS_FILE_PATH)\n",
    "        \n",
    "        create_directories([self.config.artifacts_root])\n",
    "        \n",
    "    \n",
    "    \n",
    "    def get_training_config(self) -> TrainingConfig:\n",
    "        training = self.config.training\n",
    "        prepare_base_model = self.config.prepare_base_model\n",
    "        params = self.params\n",
    "        training_data = os.path.join(self.config.data_ingestion.unzip_dir, \"Chest_data\")\n",
    "        create_directories([Path(training.root_dir)])\n",
    "        \n",
    "        training_config = TrainingConfig(\n",
    "            root_dir= Path(training.root_dir),\n",
    "            trained_model_path= Path(training.trained_model_path),\n",
    "            updated_base_model_path= Path(prepare_base_model.updated_base_model_path),\n",
    "            training_data= Path(training_data),\n",
    "            params_epochs= params.EPOCHS,\n",
    "            params_batch_size= params.BATCH_SIZE,\n",
    "            params_is_augmentration= params.AUGMENTATION,\n",
    "            params_image_size= params.IMAGE_SIZE\n",
    "        )\n",
    "        \n",
    "        return training_config"
   ]
  },
  {
   "cell_type": "code",
   "execution_count": 13,
   "metadata": {},
   "outputs": [],
   "source": [
    "import os\n",
    "import urllib.request as request\n",
    "from zipfile import ZipFile\n",
    "import tensorflow as tf\n",
    "import time"
   ]
  },
  {
   "cell_type": "code",
   "execution_count": 22,
   "metadata": {},
   "outputs": [],
   "source": [
    "class Training:\n",
    "    def __init__(self, config):\n",
    "        self.config = config\n",
    "\n",
    "    def get_base_model(self):\n",
    "        self.model = tf.keras.models.load_model(\n",
    "            self.config.updated_base_model_path\n",
    "        )\n",
    "\n",
    "    def setup_data_generators(self):\n",
    "        datagenerator_kwargs = dict(rescale=1./255)\n",
    "\n",
    "        dataflow_kwargs = dict(\n",
    "            target_size=self.config.params_image_size[:-1],\n",
    "            batch_size=self.config.params_batch_size,\n",
    "            interpolation=\"bilinear\"\n",
    "        )\n",
    "\n",
    "        if self.config.params_is_augmentration:\n",
    "            train_datagenerator = tf.keras.preprocessing.image.ImageDataGenerator(\n",
    "                rotation_range=40,\n",
    "                horizontal_flip=True,\n",
    "                width_shift_range=0.2,\n",
    "                height_shift_range=0.2,\n",
    "                shear_range=0.2,\n",
    "                zoom_range=0.2,\n",
    "                **datagenerator_kwargs\n",
    "            )\n",
    "        else:\n",
    "            train_datagenerator = tf.keras.preprocessing.image.ImageDataGenerator(**datagenerator_kwargs)\n",
    "\n",
    "        eval_datagenerator = tf.keras.preprocessing.image.ImageDataGenerator(**datagenerator_kwargs)\n",
    "\n",
    "        self.train_generator = train_datagenerator.flow_from_directory(\n",
    "            directory=os.path.join(self.config.training_data, \"train\"),\n",
    "            shuffle=True,\n",
    "            **dataflow_kwargs\n",
    "        )\n",
    "\n",
    "        self.test_generator = eval_datagenerator.flow_from_directory(\n",
    "            directory=os.path.join(self.config.training_data, \"test\"),\n",
    "            shuffle=False,\n",
    "            **dataflow_kwargs\n",
    "        )\n",
    "\n",
    "        self.valid_generator = eval_datagenerator.flow_from_directory(\n",
    "            directory=os.path.join(self.config.training_data, \"valid\"),\n",
    "            shuffle=False,\n",
    "            **dataflow_kwargs\n",
    "        )\n",
    "\n",
    "    @staticmethod\n",
    "    def save_model(path: Path, model: tf.keras.Model):\n",
    "        model.save(path)\n",
    "\n",
    "    def train(self):\n",
    "        self.steps_per_epoch = self.train_generator.samples // self.train_generator.batch_size\n",
    "        self.validation_steps = self.test_generator.samples // self.test_generator.batch_size\n",
    "\n",
    "        self.model.fit(\n",
    "            self.train_generator,\n",
    "            epochs=self.config.params_epochs,\n",
    "            steps_per_epoch=self.steps_per_epoch,\n",
    "            validation_data=self.test_generator,\n",
    "            validation_steps=self.validation_steps\n",
    "        )\n",
    "\n",
    "        self.save_model(\n",
    "            path=self.config.trained_model_path,\n",
    "            model=self.model\n",
    "        )\n"
   ]
  },
  {
   "cell_type": "code",
   "execution_count": 23,
   "metadata": {},
   "outputs": [
    {
     "name": "stdout",
     "output_type": "stream",
     "text": [
      "[2025-06-06 01:07:05,891: INFO: common : yaml file : config/config.yaml loaded successfully]\n",
      "[2025-06-06 01:07:05,894: INFO: common : yaml file : params.yaml loaded successfully]\n",
      "[2025-06-06 01:07:05,895: INFO: common : create directory at : artifacts]\n",
      "[2025-06-06 01:07:05,896: INFO: common : create directory at : artifacts/training]\n",
      "Found 343 images belonging to 2 classes.\n",
      "Found 174 images belonging to 2 classes.\n",
      "Found 36 images belonging to 2 classes.\n",
      "Epoch 1/10\n"
     ]
    },
    {
     "name": "stderr",
     "output_type": "stream",
     "text": [
      "2025-06-06 01:07:06.613572: I tensorflow/core/common_runtime/executor.cc:1197] [/device:CPU:0] (DEBUG INFO) Executor start aborting (this does not indicate an error and you can ignore this message): INVALID_ARGUMENT: You must feed a value for placeholder tensor 'Placeholder/_0' with dtype int32\n",
      "\t [[{{node Placeholder/_0}}]]\n"
     ]
    },
    {
     "name": "stdout",
     "output_type": "stream",
     "text": [
      "21/21 [==============================] - ETA: 0s - loss: 17.1583 - accuracy: 0.5138"
     ]
    },
    {
     "name": "stderr",
     "output_type": "stream",
     "text": [
      "2025-06-06 01:07:37.384161: I tensorflow/core/common_runtime/executor.cc:1197] [/device:CPU:0] (DEBUG INFO) Executor start aborting (this does not indicate an error and you can ignore this message): INVALID_ARGUMENT: You must feed a value for placeholder tensor 'Placeholder/_0' with dtype int32\n",
      "\t [[{{node Placeholder/_0}}]]\n"
     ]
    },
    {
     "name": "stdout",
     "output_type": "stream",
     "text": [
      "21/21 [==============================] - 46s 2s/step - loss: 17.1583 - accuracy: 0.5138 - val_loss: 10.8663 - val_accuracy: 0.2500\n",
      "Epoch 2/10\n",
      "21/21 [==============================] - 87s 4s/step - loss: 10.6344 - accuracy: 0.5719 - val_loss: 10.5935 - val_accuracy: 0.7500\n",
      "Epoch 3/10\n",
      "21/21 [==============================] - 68s 3s/step - loss: 5.4422 - accuracy: 0.6942 - val_loss: 22.0080 - val_accuracy: 0.2500\n",
      "Epoch 4/10\n",
      "21/21 [==============================] - 70s 3s/step - loss: 5.9076 - accuracy: 0.7003 - val_loss: 0.3545 - val_accuracy: 0.9312\n",
      "Epoch 5/10\n",
      "21/21 [==============================] - 71s 3s/step - loss: 3.6772 - accuracy: 0.7706 - val_loss: 2.6123 - val_accuracy: 0.8562\n",
      "Epoch 6/10\n",
      "21/21 [==============================] - 69s 3s/step - loss: 1.6253 - accuracy: 0.8593 - val_loss: 0.0304 - val_accuracy: 0.9937\n",
      "Epoch 7/10\n",
      "21/21 [==============================] - 73s 3s/step - loss: 1.9588 - accuracy: 0.8471 - val_loss: 0.3173 - val_accuracy: 0.9375\n",
      "Epoch 8/10\n",
      "21/21 [==============================] - 70s 3s/step - loss: 1.5089 - accuracy: 0.8502 - val_loss: 0.0244 - val_accuracy: 0.9875\n",
      "Epoch 9/10\n",
      "21/21 [==============================] - 68s 3s/step - loss: 0.7245 - accuracy: 0.9297 - val_loss: 0.1015 - val_accuracy: 0.9937\n",
      "Epoch 10/10\n",
      "21/21 [==============================] - 72s 3s/step - loss: 1.5019 - accuracy: 0.8482 - val_loss: 0.1884 - val_accuracy: 0.9625\n"
     ]
    }
   ],
   "source": [
    "try:\n",
    "    config = ConfigurationManager()\n",
    "    training_config = config.get_training_config()\n",
    "    \n",
    "    training = Training(config=training_config)\n",
    "    training.get_base_model()\n",
    "    training.setup_data_generators()\n",
    "    training.train()\n",
    "\n",
    "except Exception as e:\n",
    "    raise e"
   ]
  },
  {
   "cell_type": "code",
   "execution_count": null,
   "metadata": {},
   "outputs": [],
   "source": []
  }
 ],
 "metadata": {
  "kernelspec": {
   "display_name": "Python 3.9.19 ('cancer': venv)",
   "language": "python",
   "name": "python3"
  },
  "language_info": {
   "codemirror_mode": {
    "name": "ipython",
    "version": 3
   },
   "file_extension": ".py",
   "mimetype": "text/x-python",
   "name": "python",
   "nbconvert_exporter": "python",
   "pygments_lexer": "ipython3",
   "version": "3.9.19"
  },
  "orig_nbformat": 4,
  "vscode": {
   "interpreter": {
    "hash": "64919655fb61ae527d101f01696bec6ce483b5607e5917faae036909c5e812b6"
   }
  }
 },
 "nbformat": 4,
 "nbformat_minor": 2
}
